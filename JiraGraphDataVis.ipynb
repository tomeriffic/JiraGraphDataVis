{
 "cells": [
  {
   "cell_type": "markdown",
   "metadata": {},
   "source": [
    "# JIRA Data Gathering"
   ]
  },
  {
   "cell_type": "code",
   "execution_count": 1,
   "metadata": {},
   "outputs": [],
   "source": [
    "from requests.auth import HTTPBasicAuth\n",
    "auth = HTTPBasicAuth(\"tpilvelis@ymail.com\", \"<token-id>\")"
   ]
  },
  {
   "cell_type": "code",
   "execution_count": 2,
   "metadata": {
    "scrolled": true
   },
   "outputs": [],
   "source": [
    "import requests\n",
    "import json\n",
    "\n",
    "#Globals\n",
    "nodes = []\n",
    "node_types = [] #Epic, Story, Task, Test\n",
    "parent_child_pairs = []\n",
    "\n",
    "def get_nodes(JSONString):\n",
    "    r = json.loads(JSONString)\n",
    "\n",
    "    curr = r[\"key\"]\n",
    "    children = []\n",
    "\n",
    "    childrenJSON = r[\"fields\"][\"issuelinks\"]\n",
    "    for child in childrenJSON:\n",
    "        if \"outwardIssue\" in child:\n",
    "            childURL = child[\"outwardIssue\"][\"self\"]\n",
    "            childKey = child[\"outwardIssue\"][\"key\"]\n",
    "            \n",
    "            children.append(childKey)\n",
    "            parent_child_pairs.append( (curr, childKey) )\n",
    "            \n",
    "            make_request(childURL)\n",
    "\n",
    "    nodes.append(curr)\n",
    "    node_types.append(r[\"fields\"][\"issuetype\"][\"name\"])\n",
    "\n",
    "def make_request(url):\n",
    "    \n",
    "    headers = {\n",
    "    \"Accept\": \"application/json\"\n",
    "    }\n",
    "\n",
    "    response = requests.request(\"GET\", url, headers=headers, auth=auth )\n",
    "\n",
    "    JSONResponse = json.dumps(json.loads(response.text), sort_keys=True, indent=4, separators=(\",\", \": \"))\n",
    "    get_nodes(JSONResponse) \n",
    "\n",
    "#Root\n",
    "make_request(\"https://tstframework1.atlassian.net/rest/api/3/issue/TSTFRAM-1\")"
   ]
  },
  {
   "cell_type": "markdown",
   "metadata": {},
   "source": [
    "## Data Catagory Transformation"
   ]
  },
  {
   "cell_type": "code",
   "execution_count": 3,
   "metadata": {},
   "outputs": [],
   "source": [
    "color_list = []\n",
    "\n",
    "for item in node_types:\n",
    "    col = None\n",
    "    if 'Test' == item:\n",
    "        col = \"#e84118\" #Default Red as failure\n",
    "    elif 'Task' == item:\n",
    "        col = \"#00a8ff\"\n",
    "    elif 'Story' == item:\n",
    "        col = \"#273c75\"\n",
    "    elif 'Epic' == item:\n",
    "        col = \"#9c88ff\"\n",
    "    else:\n",
    "        raise NotImplementedError\n",
    "    color_list.append(col)"
   ]
  },
  {
   "cell_type": "markdown",
   "metadata": {},
   "source": [
    "## Visualizations"
   ]
  },
  {
   "cell_type": "code",
   "execution_count": 4,
   "metadata": {
    "scrolled": false
   },
   "outputs": [
    {
     "data": {
      "text/html": [
       "\n",
       "        <iframe\n",
       "            width=\"500px\"\n",
       "            height=\"500px\"\n",
       "            src=\"this.html\"\n",
       "            frameborder=\"0\"\n",
       "            allowfullscreen\n",
       "        ></iframe>\n",
       "        "
      ],
      "text/plain": [
       "<IPython.lib.display.IFrame at 0xa1fc7a9e8>"
      ]
     },
     "execution_count": 4,
     "metadata": {},
     "output_type": "execute_result"
    }
   ],
   "source": [
    "from pyvis.network import Network\n",
    "\n",
    "net = Network(notebook=True)\n",
    "\n",
    "net.add_nodes(nodes, color=color_list)\n",
    "net.add_edges(parent_child_pairs)\n",
    "\n",
    "net.show(\"this.html\")"
   ]
  }
 ],
 "metadata": {
  "kernelspec": {
   "display_name": "Python 3",
   "language": "python",
   "name": "python3"
  },
  "language_info": {
   "codemirror_mode": {
    "name": "ipython",
    "version": 3
   },
   "file_extension": ".py",
   "mimetype": "text/x-python",
   "name": "python",
   "nbconvert_exporter": "python",
   "pygments_lexer": "ipython3",
   "version": "3.6.8"
  }
 },
 "nbformat": 4,
 "nbformat_minor": 2
}
